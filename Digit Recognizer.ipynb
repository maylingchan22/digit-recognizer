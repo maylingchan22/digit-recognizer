{
 "cells": [
  {
   "cell_type": "code",
   "execution_count": 2,
   "id": "1ef72dc8-8fe1-4387-bbfc-c3985d2aaea9",
   "metadata": {},
   "outputs": [],
   "source": [
    "### Import Libraries\n",
    "import pandas as pd"
   ]
  },
  {
   "cell_type": "markdown",
   "id": "760c8790-9776-4696-a3da-5e04eb66aaa6",
   "metadata": {},
   "source": [
    "### Project Topic:\n",
    "\n",
    "The project focuses on digit recognition using the MNIST dataset, a well-known collection of handwritten images commonly used in computer vision tasks. The goal is to correctly identify digits from tens of thousands of these handwritten images. \n",
    "\n",
    "The type of learning algorithm used in this project is a Sequential Convolutional Neural Network (CNN), a type of deep learning algorithm commonly used for image classification tasks, such as recognizing digits in these handwritten images. CNNs are particularly well-suited for computer vision tasks because they can automatically learn to extract relevant features from images through the use of convolutional layers.\n",
    "\n",
    "The specific task involved in this project is digit recognition, which is a classification problem. Given an input image of a handwritten digit, the algorithm must correctly classify it into one of ten possible classes (digits 0 through 9). This task involves identifying patterns and features within the images that distinguish one digit from another."
   ]
  },
  {
   "cell_type": "markdown",
   "id": "6edaa33c-13cf-42da-b471-6948bdb399df",
   "metadata": {},
   "source": [
    "### Project Goal:\n",
    "\n",
    "My goal for this project is to gain experience in exploring the real-world applications of digit recognition. By working with the MNIST dataset, I aim to accurately identifying handwritten digits images through techniques, such as CNNs models.\n",
    "\n",
    "In the context of real-life application, such as optical character recognition systems, accurate digit recognition is essential for converting scanned documents or images containing numerical data into editable and searchable formats. This is broadly used in industries such as legal, healthcare, and education, where document management, archiving, and digitization efforts are prevalent.\n",
    "\n",
    "In financial institutions, digit recognition is helpful in many operations, from processing checks and invoices to verifying credit card transactions and authenticating signatures. The ability to swiftly and accurately recognize digits is indispensable for automating routine tasks, detecting fraudulent activities, and ensuring compliance with regulatory requirements. Therefore, robust digit recognition systems contribute significantly to operational efficiency, risk mitigation, and customer trust in financial services."
   ]
  },
  {
   "cell_type": "markdown",
   "id": "a445ee4d-9c65-49bd-81c6-9b37059c6707",
   "metadata": {},
   "source": [
    "#### Data:\n",
    "\n",
    "The dataset used in the project is sourced from Kaggle, specifically from the \"Digit Recognizer\" competition hosted on the platform. This dataset consists of tens of thousands of handwritten digit images, commonly known as the MNIST dataset, which has served as a benchmark for classification algorithms in computer vision since its release in 1999.\n",
    "\n",
    "APA Style Citation:\n",
    "AstroDave, Will Cukierski. (2012). Digit Recognizer. Kaggle. https://kaggle.com/competitions/digit-recognizer"
   ]
  },
  {
   "cell_type": "code",
   "execution_count": 4,
   "id": "76f39c0b-9dc0-4c70-9ae8-f1062cbf0396",
   "metadata": {},
   "outputs": [],
   "source": [
    "# Load the training and testing data sets\n",
    "train = pd.read_csv(\"./train.csv\")\n",
    "test = pd.read_csv(\"./test.csv\")"
   ]
  },
  {
   "cell_type": "code",
   "execution_count": 6,
   "id": "7a7b5b93-a945-4e5f-93dd-019585beafc7",
   "metadata": {},
   "outputs": [
    {
     "name": "stdout",
     "output_type": "stream",
     "text": [
      "Tabular Data Description:\n",
      "Training Data Size:\n",
      "Number of samples: 42000\n",
      "Number of features: 785\n",
      "Feature Data Types:\n",
      "label       int64\n",
      "pixel0      int64\n",
      "pixel1      int64\n",
      "pixel2      int64\n",
      "pixel3      int64\n",
      "            ...  \n",
      "pixel779    int64\n",
      "pixel780    int64\n",
      "pixel781    int64\n",
      "pixel782    int64\n",
      "pixel783    int64\n",
      "Length: 785, dtype: object\n",
      "\n",
      "Testing Data Size:\n",
      "Number of samples: 28000\n",
      "Number of features: 784\n",
      "Feature Data Types:\n",
      "pixel0      int64\n",
      "pixel1      int64\n",
      "pixel2      int64\n",
      "pixel3      int64\n",
      "pixel4      int64\n",
      "            ...  \n",
      "pixel779    int64\n",
      "pixel780    int64\n",
      "pixel781    int64\n",
      "pixel782    int64\n",
      "pixel783    int64\n",
      "Length: 784, dtype: object\n"
     ]
    }
   ],
   "source": [
    "def describe_tabular_data(train_data, test_data):\n",
    "    print(\"Tabular Data Description:\")\n",
    "    print(\"Training Data Size:\")\n",
    "    print(\"Number of samples:\", train_data.shape[0])\n",
    "    print(\"Number of features:\", train_data.shape[1])\n",
    "    print(\"Feature Data Types:\")\n",
    "    print(train_data.dtypes)\n",
    "    print(\"\\nTesting Data Size:\")\n",
    "    print(\"Number of samples:\", test_data.shape[0])\n",
    "    print(\"Number of features:\", test_data.shape[1])\n",
    "    print(\"Feature Data Types:\")\n",
    "    print(test_data.dtypes)\n",
    "\n",
    "describe_tabular_data(train, test)"
   ]
  },
  {
   "cell_type": "code",
   "execution_count": null,
   "id": "a006b547-f073-4cba-a1e6-abfc382d6ca1",
   "metadata": {},
   "outputs": [],
   "source": []
  }
 ],
 "metadata": {
  "kernelspec": {
   "display_name": "Python 3 (ipykernel)",
   "language": "python",
   "name": "python3"
  },
  "language_info": {
   "codemirror_mode": {
    "name": "ipython",
    "version": 3
   },
   "file_extension": ".py",
   "mimetype": "text/x-python",
   "name": "python",
   "nbconvert_exporter": "python",
   "pygments_lexer": "ipython3",
   "version": "3.11.7"
  }
 },
 "nbformat": 4,
 "nbformat_minor": 5
}
